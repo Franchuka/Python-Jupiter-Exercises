{
 "cells": [
  {
   "cell_type": "markdown",
   "id": "10b77546",
   "metadata": {},
   "source": [
    "create a dataframe of a 5 by 4 random uniform distribution, the columns will be w, x, y , z and the rows will be a, b, c, d, e"
   ]
  },
  {
   "cell_type": "code",
   "execution_count": 1,
   "id": "77dfa628",
   "metadata": {},
   "outputs": [],
   "source": [
    "import numpy as np\n",
    "import pandas as pd"
   ]
  },
  {
   "cell_type": "code",
   "execution_count": 14,
   "id": "e2411a84",
   "metadata": {},
   "outputs": [
    {
     "data": {
      "text/plain": [
       "array([[0.67463205, 0.42793282, 0.55254671, 0.97135042],\n",
       "       [0.76349636, 0.5137817 , 0.98878225, 0.16571453],\n",
       "       [0.76344146, 0.30438607, 0.38549903, 0.37707189],\n",
       "       [0.08856391, 0.95601643, 0.28323075, 0.80033745],\n",
       "       [0.29813535, 0.22743351, 0.55125941, 0.98525382]])"
      ]
     },
     "execution_count": 14,
     "metadata": {},
     "output_type": "execute_result"
    }
   ],
   "source": [
    "array = np.random.rand(5,4)\n",
    "array"
   ]
  },
  {
   "cell_type": "code",
   "execution_count": 15,
   "id": "93713da5",
   "metadata": {},
   "outputs": [
    {
     "data": {
      "text/html": [
       "<div>\n",
       "<style scoped>\n",
       "    .dataframe tbody tr th:only-of-type {\n",
       "        vertical-align: middle;\n",
       "    }\n",
       "\n",
       "    .dataframe tbody tr th {\n",
       "        vertical-align: top;\n",
       "    }\n",
       "\n",
       "    .dataframe thead th {\n",
       "        text-align: right;\n",
       "    }\n",
       "</style>\n",
       "<table border=\"1\" class=\"dataframe\">\n",
       "  <thead>\n",
       "    <tr style=\"text-align: right;\">\n",
       "      <th></th>\n",
       "      <th>w</th>\n",
       "      <th>x</th>\n",
       "      <th>y</th>\n",
       "      <th>z</th>\n",
       "    </tr>\n",
       "  </thead>\n",
       "  <tbody>\n",
       "    <tr>\n",
       "      <th>a</th>\n",
       "      <td>0.674632</td>\n",
       "      <td>0.427933</td>\n",
       "      <td>0.552547</td>\n",
       "      <td>0.971350</td>\n",
       "    </tr>\n",
       "    <tr>\n",
       "      <th>b</th>\n",
       "      <td>0.763496</td>\n",
       "      <td>0.513782</td>\n",
       "      <td>0.988782</td>\n",
       "      <td>0.165715</td>\n",
       "    </tr>\n",
       "    <tr>\n",
       "      <th>c</th>\n",
       "      <td>0.763441</td>\n",
       "      <td>0.304386</td>\n",
       "      <td>0.385499</td>\n",
       "      <td>0.377072</td>\n",
       "    </tr>\n",
       "    <tr>\n",
       "      <th>d</th>\n",
       "      <td>0.088564</td>\n",
       "      <td>0.956016</td>\n",
       "      <td>0.283231</td>\n",
       "      <td>0.800337</td>\n",
       "    </tr>\n",
       "    <tr>\n",
       "      <th>e</th>\n",
       "      <td>0.298135</td>\n",
       "      <td>0.227434</td>\n",
       "      <td>0.551259</td>\n",
       "      <td>0.985254</td>\n",
       "    </tr>\n",
       "  </tbody>\n",
       "</table>\n",
       "</div>"
      ],
      "text/plain": [
       "          w         x         y         z\n",
       "a  0.674632  0.427933  0.552547  0.971350\n",
       "b  0.763496  0.513782  0.988782  0.165715\n",
       "c  0.763441  0.304386  0.385499  0.377072\n",
       "d  0.088564  0.956016  0.283231  0.800337\n",
       "e  0.298135  0.227434  0.551259  0.985254"
      ]
     },
     "execution_count": 15,
     "metadata": {},
     "output_type": "execute_result"
    }
   ],
   "source": [
    "df = pd.DataFrame(data = array, index = ['a','b','c','d','e'], columns = ['w','x','y','z'])\n",
    "df"
   ]
  },
  {
   "cell_type": "code",
   "execution_count": 16,
   "id": "b893b832",
   "metadata": {},
   "outputs": [
    {
     "data": {
      "text/html": [
       "<div>\n",
       "<style scoped>\n",
       "    .dataframe tbody tr th:only-of-type {\n",
       "        vertical-align: middle;\n",
       "    }\n",
       "\n",
       "    .dataframe tbody tr th {\n",
       "        vertical-align: top;\n",
       "    }\n",
       "\n",
       "    .dataframe thead th {\n",
       "        text-align: right;\n",
       "    }\n",
       "</style>\n",
       "<table border=\"1\" class=\"dataframe\">\n",
       "  <thead>\n",
       "    <tr style=\"text-align: right;\">\n",
       "      <th></th>\n",
       "      <th>w</th>\n",
       "      <th>x</th>\n",
       "      <th>y</th>\n",
       "      <th>z</th>\n",
       "    </tr>\n",
       "  </thead>\n",
       "  <tbody>\n",
       "    <tr>\n",
       "      <th>a</th>\n",
       "      <td>0.291758</td>\n",
       "      <td>0.154579</td>\n",
       "      <td>0.452172</td>\n",
       "      <td>0.300741</td>\n",
       "    </tr>\n",
       "    <tr>\n",
       "      <th>b</th>\n",
       "      <td>0.331974</td>\n",
       "      <td>0.458382</td>\n",
       "      <td>0.477581</td>\n",
       "      <td>0.073358</td>\n",
       "    </tr>\n",
       "    <tr>\n",
       "      <th>c</th>\n",
       "      <td>0.495649</td>\n",
       "      <td>0.109074</td>\n",
       "      <td>0.987902</td>\n",
       "      <td>0.197014</td>\n",
       "    </tr>\n",
       "    <tr>\n",
       "      <th>d</th>\n",
       "      <td>0.984223</td>\n",
       "      <td>0.234101</td>\n",
       "      <td>0.936530</td>\n",
       "      <td>0.811608</td>\n",
       "    </tr>\n",
       "    <tr>\n",
       "      <th>e</th>\n",
       "      <td>0.645284</td>\n",
       "      <td>0.809831</td>\n",
       "      <td>0.475570</td>\n",
       "      <td>0.337470</td>\n",
       "    </tr>\n",
       "  </tbody>\n",
       "</table>\n",
       "</div>"
      ],
      "text/plain": [
       "          w         x         y         z\n",
       "a  0.291758  0.154579  0.452172  0.300741\n",
       "b  0.331974  0.458382  0.477581  0.073358\n",
       "c  0.495649  0.109074  0.987902  0.197014\n",
       "d  0.984223  0.234101  0.936530  0.811608\n",
       "e  0.645284  0.809831  0.475570  0.337470"
      ]
     },
     "execution_count": 16,
     "metadata": {},
     "output_type": "execute_result"
    }
   ],
   "source": [
    "df2 = pd.DataFrame(np.random.rand(5,4), index = ['a','b','c','d','e'], columns = ['w','x','y','z'])\n",
    "df2"
   ]
  },
  {
   "cell_type": "code",
   "execution_count": null,
   "id": "32f9f350",
   "metadata": {},
   "outputs": [],
   "source": []
  }
 ],
 "metadata": {
  "kernelspec": {
   "display_name": "Python 3 (ipykernel)",
   "language": "python",
   "name": "python3"
  },
  "language_info": {
   "codemirror_mode": {
    "name": "ipython",
    "version": 3
   },
   "file_extension": ".py",
   "mimetype": "text/x-python",
   "name": "python",
   "nbconvert_exporter": "python",
   "pygments_lexer": "ipython3",
   "version": "3.9.12"
  }
 },
 "nbformat": 4,
 "nbformat_minor": 5
}
