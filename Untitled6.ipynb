{
 "cells": [
  {
   "cell_type": "code",
   "execution_count": 9,
   "id": "19b98ec7",
   "metadata": {},
   "outputs": [
    {
     "name": "stdout",
     "output_type": "stream",
     "text": [
      "-------PICNIC ITEMS-------\n",
      "sandwiches----------     4\n",
      "apples--------------    12\n",
      "çups----------------     4\n",
      "cookies-------------   800\n",
      "--PICNIC ITEMS--\n",
      "sandwiches--   4\n",
      "apples------  12\n",
      "çups--------   4\n",
      "cookies----- 800\n"
     ]
    }
   ],
   "source": [
    "picnic_items = {'sandwiches':4, 'apples':12, 'çups':4, 'cookies':800}\n",
    "def print_picnic(items_dict, left_width, right_width):\n",
    "    print('PICNIC ITEMS'.center(left_width + right_width, '-'))\n",
    "    for key, value in items_dict.items():\n",
    "        print(f\"{key.ljust(left_width,'-')}{str(value).rjust(right_width)}\")\n",
    "        \n",
    "print_picnic(picnic_items, 20, 6)\n",
    "print_picnic(picnic_items, 12, 4)"
   ]
  },
  {
   "cell_type": "code",
   "execution_count": 1,
   "id": "079cdca3",
   "metadata": {},
   "outputs": [],
   "source": [
    "tabledata = [['apples','oranges','cherries','banana'],\n",
    "            ['alice','bob','carol','david'],\n",
    "            ['dogs','cats','moose','goose'],]"
   ]
  },
  {
   "cell_type": "code",
   "execution_count": null,
   "id": "69142c62",
   "metadata": {},
   "outputs": [],
   "source": [
    "def pt(tabledata):\n",
    "    x = 1\n",
    "    y = 1\n",
    "    z = 1\n",
    "    for j in tabledata[0]:\n",
    "        if len(j)> x:\n",
    "            x = len(j)\n",
    "    for k in tabledata[1]:\n",
    "        if len(k)> y:\n",
    "            y = len(k)\n",
    "    for l in tabledata[2]:\n",
    "        if len(l)> z:\n",
    "            z = len(l)\n",
    "    while x > y and x > z:\n",
    "        space = x\n",
    "        if y > z:\n",
    "            break\n",
    "            space = y\n",
    "        else: \n",
    "            space = z\n",
    "    for a in range(len(tabledata[0])):\n",
    "        for b in range(len(tabledata)):\n",
    "            print(f\"{tabledata[b][a].rjust(space, '-')}\", end = '')\n",
    "        print()\n",
    "pt(tabledata)"
   ]
  },
  {
   "cell_type": "code",
   "execution_count": null,
   "id": "acae90cd",
   "metadata": {},
   "outputs": [],
   "source": [
    "def pt(tabledata):\n",
    "    x = 1\n",
    "    for i in tabledata:\n",
    "        for j in i:\n",
    "            if len(j)> x:\n",
    "                x = len(j)\n",
    "    for z in range(len(tabledata[0])):\n",
    "        for y in range(len(tabledata)):\n",
    "            print(f\"{tabledata[y][z].rjust(x, '-')}\", end = ' ')\n",
    "        print()\n",
    "pt(tabledata)"
   ]
  },
  {
   "cell_type": "code",
   "execution_count": null,
   "id": "8bd9b0cc",
   "metadata": {},
   "outputs": [],
   "source": []
  }
 ],
 "metadata": {
  "kernelspec": {
   "display_name": "Python 3 (ipykernel)",
   "language": "python",
   "name": "python3"
  },
  "language_info": {
   "codemirror_mode": {
    "name": "ipython",
    "version": 3
   },
   "file_extension": ".py",
   "mimetype": "text/x-python",
   "name": "python",
   "nbconvert_exporter": "python",
   "pygments_lexer": "ipython3",
   "version": "3.9.12"
  }
 },
 "nbformat": 4,
 "nbformat_minor": 5
}
