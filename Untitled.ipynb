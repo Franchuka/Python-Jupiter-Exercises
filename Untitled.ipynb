{
 "cells": [
  {
   "cell_type": "code",
   "execution_count": 2,
   "id": "bdc8eb60",
   "metadata": {},
   "outputs": [],
   "source": [
    "francis = {'name':'Utulu Francis Chukwuka','age':'26','gender':'Male','Occupation':'Civil engineering','hobbies':['football','reading','gaming','eating','sleeping'],'relationship':{'brother':['Utulu Michael','Utulu Anthony'], 'sister':'Utulu Irene', 'father': 'Mr Utulu', 'Mother':'Mrs Utulu'}}"
   ]
  },
  {
   "cell_type": "code",
   "execution_count": 4,
   "id": "572a6f0d",
   "metadata": {},
   "outputs": [
    {
     "data": {
      "text/plain": [
       "'Utulu Francis Chukwuka'"
      ]
     },
     "execution_count": 4,
     "metadata": {},
     "output_type": "execute_result"
    }
   ],
   "source": [
    "francis['name']"
   ]
  },
  {
   "cell_type": "code",
   "execution_count": null,
   "id": "ec642085",
   "metadata": {},
   "outputs": [],
   "source": []
  }
 ],
 "metadata": {
  "kernelspec": {
   "display_name": "Python 3 (ipykernel)",
   "language": "python",
   "name": "python3"
  },
  "language_info": {
   "codemirror_mode": {
    "name": "ipython",
    "version": 3
   },
   "file_extension": ".py",
   "mimetype": "text/x-python",
   "name": "python",
   "nbconvert_exporter": "python",
   "pygments_lexer": "ipython3",
   "version": "3.9.12"
  }
 },
 "nbformat": 4,
 "nbformat_minor": 5
}
