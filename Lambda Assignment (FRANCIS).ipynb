{
 "cells": [
  {
   "cell_type": "code",
   "execution_count": 90,
   "id": "0441b545",
   "metadata": {},
   "outputs": [
    {
     "name": "stdout",
     "output_type": "stream",
     "text": [
      "[0, 1, 1, 2, 3, 5, 8, 13, 21, 34]\n"
     ]
    }
   ],
   "source": [
    "#question 1\n",
    "def fibonacci(count):\n",
    "    fiblist = [0,1]\n",
    "    any(map(lambda x: fiblist.append(sum(fiblist[-2:])), range(2, count)))\n",
    "    return fiblist[:count]\n",
    "print(fibonacci(10))"
   ]
  },
  {
   "cell_type": "code",
   "execution_count": 91,
   "id": "5a17ce9d",
   "metadata": {},
   "outputs": [
    {
     "name": "stdout",
     "output_type": "stream",
     "text": [
      "[('social science', 82), ('english', 88), ('science', 90), ('maths', 97)]\n",
      "[('social science', 82), ('english', 88), ('science', 90), ('maths', 97)]\n"
     ]
    }
   ],
   "source": [
    "#question 2\n",
    "students = [('english', 88), ('science', 90), ('maths', 97), ('social science', 82)]\n",
    "students.sort( key = lambda  x : x[-1])\n",
    "ans = sorted(student1, key = lambda x : x[1])\n",
    "print(ans)\n",
    "print(students)"
   ]
  },
  {
   "cell_type": "code",
   "execution_count": 92,
   "id": "4eafd514",
   "metadata": {},
   "outputs": [
    {
     "data": {
      "text/plain": [
       "[{'make': 'samsung', 'model': 7, 'colour': 'Blue'},\n",
       " {'make': 'Nokia', 'model': 216, 'colour': 'black'},\n",
       " {'make': 'Mi Max', 'model': 2, 'colour': 'gold'}]"
      ]
     },
     "execution_count": 92,
     "metadata": {},
     "output_type": "execute_result"
    }
   ],
   "source": [
    "#question 3\n",
    "ldicts = [{'make':'Nokia','model':216, 'colour': 'black'},\n",
    "          {'make':'Mi Max','model':2, 'colour': 'gold'},\n",
    "          {'make': 'samsung', 'model': 7, 'colour': 'Blue'}]\n",
    "sorted(ldicts, key = lambda x: x['colour'])"
   ]
  },
  {
   "cell_type": "code",
   "execution_count": 95,
   "id": "29d69b5d",
   "metadata": {},
   "outputs": [
    {
     "name": "stdout",
     "output_type": "stream",
     "text": [
      "The even numbers from the said list: [2, 4, 6, 8, 10]\n",
      "The odd numbers from the said list: [1, 3, 5, 7, 9]\n"
     ]
    }
   ],
   "source": [
    "#question 4\n",
    "totalnum = [1,2,3,4,5,6,7,8,9,10]\n",
    "even = list(filter(lambda x: x%2 == 0, totalnum))\n",
    "odd = list(filter(lambda x: x%2 != 0, totalnum))\n",
    "print( f'The even numbers from the said list: {even}\\nThe odd numbers from the said list: {odd}')"
   ]
  },
  {
   "cell_type": "code",
   "execution_count": null,
   "id": "bd332435",
   "metadata": {},
   "outputs": [],
   "source": []
  }
 ],
 "metadata": {
  "kernelspec": {
   "display_name": "Python 3 (ipykernel)",
   "language": "python",
   "name": "python3"
  },
  "language_info": {
   "codemirror_mode": {
    "name": "ipython",
    "version": 3
   },
   "file_extension": ".py",
   "mimetype": "text/x-python",
   "name": "python",
   "nbconvert_exporter": "python",
   "pygments_lexer": "ipython3",
   "version": "3.9.12"
  }
 },
 "nbformat": 4,
 "nbformat_minor": 5
}
