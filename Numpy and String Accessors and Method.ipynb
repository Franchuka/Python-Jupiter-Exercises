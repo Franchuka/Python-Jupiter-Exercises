{
 "cells": [
  {
   "cell_type": "code",
   "execution_count": 2,
   "id": "7efddf5b",
   "metadata": {},
   "outputs": [],
   "source": [
    "file = open('source.txt', 'a')\n",
    "file.write('we are coming')\n",
    "file.close()"
   ]
  },
  {
   "cell_type": "code",
   "execution_count": 4,
   "id": "e099a425",
   "metadata": {},
   "outputs": [
    {
     "name": "stdout",
     "output_type": "stream",
     "text": [
      "It is not so simple anymore!\n",
      "we are coming\n"
     ]
    }
   ],
   "source": [
    "files = open('source.txt', 'r')\n",
    "print(files.read())"
   ]
  },
  {
   "cell_type": "code",
   "execution_count": null,
   "id": "8014a974",
   "metadata": {},
   "outputs": [],
   "source": []
  },
  {
   "cell_type": "markdown",
   "id": "5c0b6cc0",
   "metadata": {},
   "source": [
    "# Importing data with the Numpy - np.loadtxt() vs np.genfromtxt()"
   ]
  },
  {
   "cell_type": "code",
   "execution_count": 1,
   "id": "cf461456",
   "metadata": {},
   "outputs": [],
   "source": [
    "import numpy as np"
   ]
  },
  {
   "cell_type": "code",
   "execution_count": 4,
   "id": "76a47ca6",
   "metadata": {},
   "outputs": [],
   "source": [
    "data = \"Lending-Company-Numeric-Data.csv\"\n",
    "lend_data = np.loadtxt(data, delimiter = ',')"
   ]
  },
  {
   "cell_type": "code",
   "execution_count": 5,
   "id": "cb2348a7",
   "metadata": {},
   "outputs": [
    {
     "data": {
      "text/plain": [
       "array([[ 2000.,    40.,   365.,  3121.,  4241., 13621.],\n",
       "       [ 2000.,    40.,   365.,  3061.,  4171., 15041.],\n",
       "       [ 1000.,    40.,   365.,  2160.,  3280., 15340.],\n",
       "       ...,\n",
       "       [ 2000.,    40.,   365.,  4201.,  5001., 16600.],\n",
       "       [ 1000.,    40.,   365.,  2080.,  3320., 15600.],\n",
       "       [ 2000.,    40.,   365.,  4601.,  4601., 16600.]])"
      ]
     },
     "execution_count": 5,
     "metadata": {},
     "output_type": "execute_result"
    }
   ],
   "source": [
    "lend_data"
   ]
  },
  {
   "cell_type": "code",
   "execution_count": 12,
   "id": "9364d8f7",
   "metadata": {},
   "outputs": [],
   "source": [
    "#np.set_printoptions(threshold=np.inf)\n",
    "#this is used to show the full data set in numpy arrays"
   ]
  },
  {
   "cell_type": "code",
   "execution_count": 13,
   "id": "abfaa799",
   "metadata": {},
   "outputs": [
    {
     "name": "stdout",
     "output_type": "stream",
     "text": [
      "[[ 2000.    40.   365.  3121.  4241. 13621.]\n",
      " [ 2000.    40.   365.  3061.  4171. 15041.]\n",
      " [ 1000.    40.   365.  2160.  3280. 15340.]\n",
      " ...\n",
      " [ 2000.    40.   365.  4201.  5001. 16600.]\n",
      " [ 1000.    40.   365.  2080.  3320. 15600.]\n",
      " [ 2000.    40.   365.  4601.  4601. 16600.]]\n"
     ]
    }
   ],
   "source": [
    "lend_data2 = np.genfromtxt(data, delimiter = ',')\n",
    "print(lend_data2)"
   ]
  },
  {
   "cell_type": "code",
   "execution_count": 14,
   "id": "0049eef7",
   "metadata": {},
   "outputs": [
    {
     "data": {
      "text/plain": [
       "True"
      ]
     },
     "execution_count": 14,
     "metadata": {},
     "output_type": "execute_result"
    }
   ],
   "source": [
    "np.array_equal(lend_data, lend_data2)"
   ]
  },
  {
   "cell_type": "code",
   "execution_count": 10,
   "id": "8392c33c",
   "metadata": {},
   "outputs": [
    {
     "data": {
      "text/plain": [
       "array([[ True,  True,  True,  True,  True,  True],\n",
       "       [ True,  True,  True,  True,  True,  True],\n",
       "       [ True,  True,  True,  True,  True,  True],\n",
       "       ...,\n",
       "       [ True,  True,  True,  True,  True,  True],\n",
       "       [ True,  True,  True,  True,  True,  True],\n",
       "       [ True,  True,  True,  True,  True,  True]])"
      ]
     },
     "execution_count": 10,
     "metadata": {},
     "output_type": "execute_result"
    }
   ],
   "source": [
    "lend_data == lend_data2"
   ]
  },
  {
   "cell_type": "code",
   "execution_count": 19,
   "id": "a43922cf",
   "metadata": {},
   "outputs": [],
   "source": [
    "data2 = 'Lending-Company-Numeric-Data-NAN.csv'"
   ]
  },
  {
   "cell_type": "code",
   "execution_count": 20,
   "id": "b38246a9",
   "metadata": {},
   "outputs": [
    {
     "ename": "ValueError",
     "evalue": "could not convert string to float: '2000;40;365;3121;4241;13621'",
     "output_type": "error",
     "traceback": [
      "\u001b[1;31m---------------------------------------------------------------------------\u001b[0m",
      "\u001b[1;31mValueError\u001b[0m                                Traceback (most recent call last)",
      "Input \u001b[1;32mIn [20]\u001b[0m, in \u001b[0;36m<cell line: 1>\u001b[1;34m()\u001b[0m\n\u001b[1;32m----> 1\u001b[0m lend_load \u001b[38;5;241m=\u001b[39m \u001b[43mnp\u001b[49m\u001b[38;5;241;43m.\u001b[39;49m\u001b[43mloadtxt\u001b[49m\u001b[43m(\u001b[49m\u001b[43mdata2\u001b[49m\u001b[43m)\u001b[49m\n",
      "File \u001b[1;32m~\\anaconda3\\lib\\site-packages\\numpy\\lib\\npyio.py:1148\u001b[0m, in \u001b[0;36mloadtxt\u001b[1;34m(fname, dtype, comments, delimiter, converters, skiprows, usecols, unpack, ndmin, encoding, max_rows, like)\u001b[0m\n\u001b[0;32m   1143\u001b[0m \u001b[38;5;66;03m# read data in chunks and fill it into an array via resize\u001b[39;00m\n\u001b[0;32m   1144\u001b[0m \u001b[38;5;66;03m# over-allocating and shrinking the array later may be faster but is\u001b[39;00m\n\u001b[0;32m   1145\u001b[0m \u001b[38;5;66;03m# probably not relevant compared to the cost of actually reading and\u001b[39;00m\n\u001b[0;32m   1146\u001b[0m \u001b[38;5;66;03m# converting the data\u001b[39;00m\n\u001b[0;32m   1147\u001b[0m X \u001b[38;5;241m=\u001b[39m \u001b[38;5;28;01mNone\u001b[39;00m\n\u001b[1;32m-> 1148\u001b[0m \u001b[38;5;28;01mfor\u001b[39;00m x \u001b[38;5;129;01min\u001b[39;00m read_data(_loadtxt_chunksize):\n\u001b[0;32m   1149\u001b[0m     \u001b[38;5;28;01mif\u001b[39;00m X \u001b[38;5;129;01mis\u001b[39;00m \u001b[38;5;28;01mNone\u001b[39;00m:\n\u001b[0;32m   1150\u001b[0m         X \u001b[38;5;241m=\u001b[39m np\u001b[38;5;241m.\u001b[39marray(x, dtype)\n",
      "File \u001b[1;32m~\\anaconda3\\lib\\site-packages\\numpy\\lib\\npyio.py:999\u001b[0m, in \u001b[0;36mloadtxt.<locals>.read_data\u001b[1;34m(chunk_size)\u001b[0m\n\u001b[0;32m    995\u001b[0m     \u001b[38;5;28;01mraise\u001b[39;00m \u001b[38;5;167;01mValueError\u001b[39;00m(\u001b[38;5;124m\"\u001b[39m\u001b[38;5;124mWrong number of columns at line \u001b[39m\u001b[38;5;132;01m%d\u001b[39;00m\u001b[38;5;124m\"\u001b[39m\n\u001b[0;32m    996\u001b[0m                      \u001b[38;5;241m%\u001b[39m line_num)\n\u001b[0;32m    998\u001b[0m \u001b[38;5;66;03m# Convert each value according to its column and store\u001b[39;00m\n\u001b[1;32m--> 999\u001b[0m items \u001b[38;5;241m=\u001b[39m [conv(val) \u001b[38;5;28;01mfor\u001b[39;00m (conv, val) \u001b[38;5;129;01min\u001b[39;00m \u001b[38;5;28mzip\u001b[39m(converters, vals)]\n\u001b[0;32m   1001\u001b[0m \u001b[38;5;66;03m# Then pack it according to the dtype's nesting\u001b[39;00m\n\u001b[0;32m   1002\u001b[0m items \u001b[38;5;241m=\u001b[39m pack_items(items, packing)\n",
      "File \u001b[1;32m~\\anaconda3\\lib\\site-packages\\numpy\\lib\\npyio.py:999\u001b[0m, in \u001b[0;36m<listcomp>\u001b[1;34m(.0)\u001b[0m\n\u001b[0;32m    995\u001b[0m     \u001b[38;5;28;01mraise\u001b[39;00m \u001b[38;5;167;01mValueError\u001b[39;00m(\u001b[38;5;124m\"\u001b[39m\u001b[38;5;124mWrong number of columns at line \u001b[39m\u001b[38;5;132;01m%d\u001b[39;00m\u001b[38;5;124m\"\u001b[39m\n\u001b[0;32m    996\u001b[0m                      \u001b[38;5;241m%\u001b[39m line_num)\n\u001b[0;32m    998\u001b[0m \u001b[38;5;66;03m# Convert each value according to its column and store\u001b[39;00m\n\u001b[1;32m--> 999\u001b[0m items \u001b[38;5;241m=\u001b[39m [\u001b[43mconv\u001b[49m\u001b[43m(\u001b[49m\u001b[43mval\u001b[49m\u001b[43m)\u001b[49m \u001b[38;5;28;01mfor\u001b[39;00m (conv, val) \u001b[38;5;129;01min\u001b[39;00m \u001b[38;5;28mzip\u001b[39m(converters, vals)]\n\u001b[0;32m   1001\u001b[0m \u001b[38;5;66;03m# Then pack it according to the dtype's nesting\u001b[39;00m\n\u001b[0;32m   1002\u001b[0m items \u001b[38;5;241m=\u001b[39m pack_items(items, packing)\n",
      "File \u001b[1;32m~\\anaconda3\\lib\\site-packages\\numpy\\lib\\npyio.py:736\u001b[0m, in \u001b[0;36m_getconv.<locals>.floatconv\u001b[1;34m(x)\u001b[0m\n\u001b[0;32m    734\u001b[0m \u001b[38;5;28;01mif\u001b[39;00m \u001b[38;5;124m'\u001b[39m\u001b[38;5;124m0x\u001b[39m\u001b[38;5;124m'\u001b[39m \u001b[38;5;129;01min\u001b[39;00m x:\n\u001b[0;32m    735\u001b[0m     \u001b[38;5;28;01mreturn\u001b[39;00m \u001b[38;5;28mfloat\u001b[39m\u001b[38;5;241m.\u001b[39mfromhex(x)\n\u001b[1;32m--> 736\u001b[0m \u001b[38;5;28;01mreturn\u001b[39;00m \u001b[38;5;28;43mfloat\u001b[39;49m\u001b[43m(\u001b[49m\u001b[43mx\u001b[49m\u001b[43m)\u001b[49m\n",
      "\u001b[1;31mValueError\u001b[0m: could not convert string to float: '2000;40;365;3121;4241;13621'"
     ]
    }
   ],
   "source": [
    "lend_load = np.loadtxt(data2)"
   ]
  },
  {
   "cell_type": "code",
   "execution_count": 23,
   "id": "802aadfb",
   "metadata": {},
   "outputs": [
    {
     "name": "stdout",
     "output_type": "stream",
     "text": [
      "[[ 2000.    40.   365.  3121.  4241. 13621.]\n",
      " [ 2000.    40.   365.  3061.  4171. 15041.]\n",
      " [ 1000.    40.   365.  2160.  3280. 15340.]\n",
      " ...\n",
      " [   nan    40.   365.  4201.  5001. 16600.]\n",
      " [ 1000.    40.   365.  2080.  3320. 15600.]\n",
      " [ 2000.    40.   365.  4601.  4601. 16600.]]\n"
     ]
    }
   ],
   "source": [
    "lend_load = np.genfromtxt(data2, delimiter=';')\n",
    "print(lend_load)"
   ]
  },
  {
   "cell_type": "markdown",
   "id": "d30c8d13",
   "metadata": {},
   "source": [
    "The major difference between using np.loadtxt() and np.genfrom() is that np.loadtxt() would not import a file that contains missing values while np.genfromtxt() would import a file that contains missing values"
   ]
  },
  {
   "cell_type": "code",
   "execution_count": 24,
   "id": "456b48b8",
   "metadata": {},
   "outputs": [
    {
     "data": {
      "text/plain": [
       "array([['2000', '40', '365', '3121', '4241', '13621'],\n",
       "       ['2000', '40', '365', '3061', '4171', '15041'],\n",
       "       ['1000', '40', '365', '2160', '3280', '15340'],\n",
       "       ...,\n",
       "       ['', '40', '365', '4201', '5001', '16600'],\n",
       "       ['1000', '40', '365', '2080', '3320', '15600'],\n",
       "       ['2000', '40', '365', '4601', '4601', '16600']], dtype='<U5')"
      ]
     },
     "execution_count": 24,
     "metadata": {},
     "output_type": "execute_result"
    }
   ],
   "source": [
    "#loading a data that contains nul values with np.loadtxt() \n",
    "lend_load = np.loadtxt(data2, delimiter = ';', dtype = str)\n",
    "lend_load"
   ]
  },
  {
   "cell_type": "markdown",
   "id": "23c1c8fc",
   "metadata": {},
   "source": [
    "## Saving files with Numpy using np.save()"
   ]
  },
  {
   "cell_type": "code",
   "execution_count": 2,
   "id": "b880caea",
   "metadata": {},
   "outputs": [
    {
     "name": "stdout",
     "output_type": "stream",
     "text": [
      "[['LoanID' 'StringID' 'Product' 'CustomerGender' 'Location' 'Region'\n",
      "  'TotalPrice']\n",
      " ['1' 'id_1' 'Product B' 'Male' 'Location 2' 'Region 2' '16600.0']\n",
      " ['2' 'id_2' 'Product B' 'Male' 'Location 3' '' '16600.0']\n",
      " ['3' 'id_3' 'Product C' 'Female' 'Location 5' 'Region 5' '15600.0']\n",
      " ['4' 'id_4' 'Product B' 'Male' 'Location 6' 'Region 1' '16600.0']\n",
      " ['5' 'id_5' 'Product D' 'Female' 'Location 7' 'Region 2' '20250.0']\n",
      " ['6' 'id_6' 'Product B' 'Female' 'Location 10' 'Region 2' '']\n",
      " ['7' 'id_7' 'Product A' 'Male' 'Location 11' 'Region 3' '20250.0']\n",
      " ['8' 'id_8' 'Product B' 'Male' 'Location 12' 'Region 6' '16600.0']\n",
      " ['9' 'id_9' 'Product A' 'Female' 'Location 3' 'Region 3' '22250.0']]\n"
     ]
    }
   ],
   "source": [
    "import numpy as np\n",
    "lend_co = np.genfromtxt('Lending-Company-Saving.csv', delimiter =',', dtype = str, max_rows = 10)\n",
    "print(lend_co)"
   ]
  },
  {
   "cell_type": "markdown",
   "id": "28429fa7",
   "metadata": {},
   "source": [
    "advantages of saving in .npy format\n",
    "1. it is lighter than a .cv format\n",
    "2. it is easier to load in numpy"
   ]
  },
  {
   "cell_type": "code",
   "execution_count": 28,
   "id": "2f5eb182",
   "metadata": {},
   "outputs": [],
   "source": [
    "np.save('lending-numpy', lend_co)"
   ]
  },
  {
   "cell_type": "markdown",
   "id": "818c087d",
   "metadata": {},
   "source": [
    "### loading data saved as .npy using numpy"
   ]
  },
  {
   "cell_type": "code",
   "execution_count": 29,
   "id": "0967b9ee",
   "metadata": {},
   "outputs": [
    {
     "name": "stdout",
     "output_type": "stream",
     "text": [
      "[['LoanID' 'StringID' 'Product' 'CustomerGender' 'Location' 'Region'\n",
      "  'TotalPrice']\n",
      " ['1' 'id_1' 'Product B' 'Male' 'Location 2' 'Region 2' '16600.0']\n",
      " ['2' 'id_2' 'Product B' 'Male' 'Location 3' '' '16600.0']\n",
      " ['3' 'id_3' 'Product C' 'Female' 'Location 5' 'Region 5' '15600.0']\n",
      " ['4' 'id_4' 'Product B' 'Male' 'Location 6' 'Region 1' '16600.0']\n",
      " ['5' 'id_5' 'Product D' 'Female' 'Location 7' 'Region 2' '20250.0']\n",
      " ['6' 'id_6' 'Product B' 'Female' 'Location 10' 'Region 2' '']\n",
      " ['7' 'id_7' 'Product A' 'Male' 'Location 11' 'Region 3' '20250.0']\n",
      " ['8' 'id_8' 'Product B' 'Male' 'Location 12' 'Region 6' '16600.0']\n",
      " ['9' 'id_9' 'Product A' 'Female' 'Location 3' 'Region 3' '22250.0']]\n"
     ]
    }
   ],
   "source": [
    "saved_data = np.load('lending-numpy.npy' )\n",
    "print(saved_data)"
   ]
  },
  {
   "cell_type": "markdown",
   "id": "8bdd91ea",
   "metadata": {},
   "source": [
    "## Using numpy with the savez()\n",
    "saving with this method saves your file in a compressed zip format"
   ]
  },
  {
   "cell_type": "code",
   "execution_count": 31,
   "id": "a9acd0da",
   "metadata": {},
   "outputs": [],
   "source": [
    "np.savez('lending-numpyZ', saved_data)"
   ]
  },
  {
   "cell_type": "code",
   "execution_count": null,
   "id": "7fdbad49",
   "metadata": {},
   "outputs": [],
   "source": [
    "%S = STRING\n",
    "%D = INTEGERS/DECIMALS\n",
    "%F = FLOATING POINT"
   ]
  },
  {
   "cell_type": "markdown",
   "id": "0dd85f8b",
   "metadata": {},
   "source": [
    "## saving files with numpy using np.savetxt()"
   ]
  },
  {
   "cell_type": "code",
   "execution_count": 33,
   "id": "41084062",
   "metadata": {},
   "outputs": [],
   "source": [
    "np.savetxt('Lending-text-file.txt', saved_data, fmt = '%s',delimiter = ',')"
   ]
  },
  {
   "cell_type": "markdown",
   "id": "19e52963",
   "metadata": {},
   "source": [
    "saving data with this format helps wen you want to save your data in different ways, the %s, %d and %f are used to save in different formats "
   ]
  },
  {
   "cell_type": "markdown",
   "id": "20ed855b",
   "metadata": {},
   "source": [
    "# WORKING WITH TEXT DATA"
   ]
  },
  {
   "cell_type": "markdown",
   "id": "34714ef5",
   "metadata": {},
   "source": [
    "### Working with text data and argument specifiers"
   ]
  },
  {
   "cell_type": "markdown",
   "id": "c4c185fd",
   "metadata": {},
   "source": [
    "#### String interpolation using f-strings"
   ]
  },
  {
   "cell_type": "code",
   "execution_count": 35,
   "id": "b8f44d9c",
   "metadata": {},
   "outputs": [],
   "source": [
    "name = 'Francis'\n",
    "car = 'venza'\n",
    "wives = 3"
   ]
  },
  {
   "cell_type": "code",
   "execution_count": 4,
   "id": "61bdcea9",
   "metadata": {},
   "outputs": [],
   "source": [
    "name = 'francis'\n",
    "surname = 'utulu' \n",
    "age = 24\n",
    "hobby = 'reading' \n",
    "colour = 'blue'"
   ]
  },
  {
   "cell_type": "code",
   "execution_count": 6,
   "id": "5adf66e7",
   "metadata": {},
   "outputs": [
    {
     "name": "stdout",
     "output_type": "stream",
     "text": [
      "the name of the yong man is francis from the family of utulu. he is 24 years old. he loves reading and his favourite colour is blue\n"
     ]
    }
   ],
   "source": [
    "print(f\"the name of the yong man is {name} from the family of {surname}. he is {age} years old. he loves {hobby} and his favourite colour is {colour}\")"
   ]
  },
  {
   "cell_type": "code",
   "execution_count": 44,
   "id": "f5f81158",
   "metadata": {},
   "outputs": [
    {
     "name": "stdout",
     "output_type": "stream",
     "text": [
      "The name of the handsome young man is Francis he has  3 wives and drives a  venza\n"
     ]
    }
   ],
   "source": [
    "print('The name of the handsome young man is '+name+ ' he has ', wives, 'wives and drives a ', car)"
   ]
  },
  {
   "cell_type": "code",
   "execution_count": 46,
   "id": "d3fb8daf",
   "metadata": {},
   "outputs": [
    {
     "name": "stdout",
     "output_type": "stream",
     "text": [
      "The name of the handsome young man is Francis, he has 3 wives and drives a venza\n"
     ]
    }
   ],
   "source": [
    "print(f'The name of the handsome young man is {name}, he has {wives} wives and drives a {car}')"
   ]
  },
  {
   "cell_type": "markdown",
   "id": "770d0629",
   "metadata": {},
   "source": [
    "#### Using the .format method"
   ]
  },
  {
   "cell_type": "code",
   "execution_count": 47,
   "id": "fc3832c6",
   "metadata": {},
   "outputs": [
    {
     "name": "stdout",
     "output_type": "stream",
     "text": [
      "The name of the greatest club in th world is Barcelona\n"
     ]
    }
   ],
   "source": [
    "var = 'The name of the greatest club in th world is {}'\n",
    "print(var.format('Barcelona'))"
   ]
  },
  {
   "cell_type": "code",
   "execution_count": 8,
   "id": "7a5dc091",
   "metadata": {},
   "outputs": [
    {
     "name": "stdout",
     "output_type": "stream",
     "text": [
      "the name of the yong man is francis from the family of utulu. he is 24 years old. he loves reading and his favourite colour is blue\n"
     ]
    }
   ],
   "source": [
    "intro = \"the name of the yong man is {} from the family of {}. he is {} years old. he loves {} and his favourite colour is {}\"\n",
    "print(intro.format('francis', 'utulu', 24, 'reading', 'blue'))"
   ]
  },
  {
   "cell_type": "code",
   "execution_count": 49,
   "id": "a47f5fe2",
   "metadata": {},
   "outputs": [
    {
     "name": "stdout",
     "output_type": "stream",
     "text": [
      "The greatest players in the world are Messi, Ronaldo and De bruyne\n"
     ]
    }
   ],
   "source": [
    "print('The greatest players in the world are {}, {} and {}'.format('Messi','Ronaldo','De bruyne'))"
   ]
  },
  {
   "cell_type": "markdown",
   "id": "326aacba",
   "metadata": {},
   "source": [
    "#### Using argument specifiers"
   ]
  },
  {
   "cell_type": "markdown",
   "id": "0c182d3f",
   "metadata": {},
   "source": [
    "Here are some of the basic argument specifiers you should know \n",
    "%s - String (or any object with astring representation, like numbers)\n",
    "%d - Integers \n",
    "%f - Floating point numbers\n",
    "%<number of digits>f - Floating point numbers with a fixed amount of digits to the right of the dot.\n",
    "   "
   ]
  },
  {
   "cell_type": "code",
   "execution_count": 52,
   "id": "a8041e4a",
   "metadata": {},
   "outputs": [
    {
     "name": "stdout",
     "output_type": "stream",
     "text": [
      "The name of the boy is bola\n"
     ]
    }
   ],
   "source": [
    "name2 = 'bola' \n",
    "print('The name of the boy is %s' %name2)"
   ]
  },
  {
   "cell_type": "code",
   "execution_count": 57,
   "id": "f5e0462e",
   "metadata": {},
   "outputs": [
    {
     "name": "stdout",
     "output_type": "stream",
     "text": [
      "The name of the boy is bola and he is 24 years old\n"
     ]
    }
   ],
   "source": [
    "age = 24\n",
    "print('The name of the boy is %s and he is %d years old' %(name2, age))"
   ]
  },
  {
   "cell_type": "code",
   "execution_count": 61,
   "id": "9585b112",
   "metadata": {},
   "outputs": [
    {
     "name": "stdout",
     "output_type": "stream",
     "text": [
      "The value of p is 3\n"
     ]
    }
   ],
   "source": [
    "pi = 3.14159265358793238\n",
    "print('The value of p is %d' % pi)"
   ]
  },
  {
   "cell_type": "code",
   "execution_count": 62,
   "id": "b3d07419",
   "metadata": {},
   "outputs": [
    {
     "name": "stdout",
     "output_type": "stream",
     "text": [
      "The value of p is 3.141593\n"
     ]
    }
   ],
   "source": [
    "print('The value of p is %f' % pi)\n",
    "# by "
   ]
  },
  {
   "cell_type": "code",
   "execution_count": 64,
   "id": "dd552f1f",
   "metadata": {},
   "outputs": [
    {
     "name": "stdout",
     "output_type": "stream",
     "text": [
      "The value of p is 3.141592654\n"
     ]
    }
   ],
   "source": [
    "print('The value of p is %.9f' % pi)\n",
    "#by puting .(number) f it will give you the number of decimals you want to print"
   ]
  },
  {
   "cell_type": "markdown",
   "id": "00188725",
   "metadata": {},
   "source": [
    "#### Escape characters in python\n",
    "\n",
    "\\n Creating new line\n",
    "\n",
    "\\t Creating a 'tab'or four spaces\n",
    "\n",
    " \\ \"To convert the double quote into a raw character\n",
    "\n",
    "\\ ' To convert the single quote into a raw character\n",
    "\n",
    "\\ \\ To convert the backlash into a raw character"
   ]
  },
  {
   "cell_type": "code",
   "execution_count": 1,
   "id": "3f4c6865",
   "metadata": {},
   "outputs": [
    {
     "name": "stdout",
     "output_type": "stream",
     "text": [
      "This text is currently on one line \n",
      "but this would be on the next\n"
     ]
    }
   ],
   "source": [
    "print(\"This text is currently on one line \\nbut this would be on the next\")"
   ]
  },
  {
   "cell_type": "code",
   "execution_count": 111,
   "id": "59cd1049",
   "metadata": {},
   "outputs": [
    {
     "name": "stdout",
     "output_type": "stream",
     "text": [
      "Did you notice the \t space between us\n"
     ]
    }
   ],
   "source": [
    "print(\"Did you notice the \\t space between us\")"
   ]
  },
  {
   "cell_type": "code",
   "execution_count": 4,
   "id": "12a21810",
   "metadata": {},
   "outputs": [
    {
     "name": "stdout",
     "output_type": "stream",
     "text": [
      "He said in the last meeting \"ÿou all are doing well\" because we are\n"
     ]
    }
   ],
   "source": [
    "print(\"He said in the last meeting \\\"ÿou all are doing well\\\" because we are\")"
   ]
  },
  {
   "cell_type": "code",
   "execution_count": 5,
   "id": "05c6e89e",
   "metadata": {},
   "outputs": [
    {
     "name": "stdout",
     "output_type": "stream",
     "text": [
      "He's a  cheat\n"
     ]
    }
   ],
   "source": [
    "print('He\\'s a  cheat')"
   ]
  },
  {
   "cell_type": "code",
   "execution_count": 6,
   "id": "e9de3e2c",
   "metadata": {},
   "outputs": [
    {
     "name": "stdout",
     "output_type": "stream",
     "text": [
      "to print on a new line we use \\n\n"
     ]
    }
   ],
   "source": [
    "print(\"to print on a new line we use \\\\n\")"
   ]
  },
  {
   "cell_type": "markdown",
   "id": "a444baf6",
   "metadata": {},
   "source": [
    "### Using Various String Methods"
   ]
  },
  {
   "cell_type": "code",
   "execution_count": 10,
   "id": "ef4d1d77",
   "metadata": {},
   "outputs": [
    {
     "data": {
      "text/plain": [
       "'price per unit'"
      ]
     },
     "execution_count": 10,
     "metadata": {},
     "output_type": "execute_result"
    }
   ],
   "source": [
    "s = 'price per unit'\n",
    "s"
   ]
  },
  {
   "cell_type": "code",
   "execution_count": 11,
   "id": "f6b9e843",
   "metadata": {},
   "outputs": [],
   "source": [
    "s1 = s.replace('price','cost')"
   ]
  },
  {
   "cell_type": "code",
   "execution_count": 12,
   "id": "a0083ad8",
   "metadata": {},
   "outputs": [
    {
     "data": {
      "text/plain": [
       "'cost per unit'"
      ]
     },
     "execution_count": 12,
     "metadata": {},
     "output_type": "execute_result"
    }
   ],
   "source": [
    "s1"
   ]
  },
  {
   "cell_type": "code",
   "execution_count": 26,
   "id": "ceecbb8f",
   "metadata": {},
   "outputs": [
    {
     "data": {
      "text/plain": [
       "True"
      ]
     },
     "execution_count": 26,
     "metadata": {},
     "output_type": "execute_result"
    }
   ],
   "source": [
    "s1.startswith('cost')"
   ]
  },
  {
   "cell_type": "code",
   "execution_count": 27,
   "id": "2c8f8860",
   "metadata": {},
   "outputs": [
    {
     "data": {
      "text/plain": [
       "True"
      ]
     },
     "execution_count": 27,
     "metadata": {},
     "output_type": "execute_result"
    }
   ],
   "source": [
    "s.startswith('price')"
   ]
  },
  {
   "cell_type": "code",
   "execution_count": 42,
   "id": "ecb8484a",
   "metadata": {},
   "outputs": [
    {
     "data": {
      "text/plain": [
       "True"
      ]
     },
     "execution_count": 42,
     "metadata": {},
     "output_type": "execute_result"
    }
   ],
   "source": [
    "s1.endswith('unit')"
   ]
  },
  {
   "cell_type": "code",
   "execution_count": 43,
   "id": "023135da",
   "metadata": {},
   "outputs": [
    {
     "data": {
      "text/plain": [
       "False"
      ]
     },
     "execution_count": 43,
     "metadata": {},
     "output_type": "execute_result"
    }
   ],
   "source": [
    "s.endswith('per')"
   ]
  },
  {
   "cell_type": "code",
   "execution_count": 28,
   "id": "7779f97f",
   "metadata": {},
   "outputs": [
    {
     "data": {
      "text/plain": [
       "'cost per unit'"
      ]
     },
     "execution_count": 28,
     "metadata": {},
     "output_type": "execute_result"
    }
   ],
   "source": [
    "s1"
   ]
  },
  {
   "cell_type": "code",
   "execution_count": 105,
   "id": "ac4e7bb7",
   "metadata": {},
   "outputs": [
    {
     "data": {
      "text/plain": [
       "['cost', 'per', 'unit']"
      ]
     },
     "execution_count": 105,
     "metadata": {},
     "output_type": "execute_result"
    }
   ],
   "source": [
    "lhist = s1.split()\n",
    "lhist"
   ]
  },
  {
   "cell_type": "code",
   "execution_count": 14,
   "id": "25086445",
   "metadata": {},
   "outputs": [
    {
     "ename": "TypeError",
     "evalue": "must be str or None, not type",
     "output_type": "error",
     "traceback": [
      "\u001b[1;31m---------------------------------------------------------------------------\u001b[0m",
      "\u001b[1;31mTypeError\u001b[0m                                 Traceback (most recent call last)",
      "Input \u001b[1;32mIn [14]\u001b[0m, in \u001b[0;36m<cell line: 1>\u001b[1;34m()\u001b[0m\n\u001b[1;32m----> 1\u001b[0m \u001b[43ms1\u001b[49m\u001b[38;5;241;43m.\u001b[39;49m\u001b[43msplit\u001b[49m\u001b[43m(\u001b[49m\u001b[38;5;28;43mint\u001b[39;49m\u001b[43m)\u001b[49m\n",
      "\u001b[1;31mTypeError\u001b[0m: must be str or None, not type"
     ]
    }
   ],
   "source": [
    "s1.split(int)"
   ]
  },
  {
   "cell_type": "code",
   "execution_count": 36,
   "id": "4fa526a5",
   "metadata": {},
   "outputs": [
    {
     "data": {
      "text/plain": [
       "list"
      ]
     },
     "execution_count": 36,
     "metadata": {},
     "output_type": "execute_result"
    }
   ],
   "source": [
    "type(lhist)"
   ]
  },
  {
   "cell_type": "code",
   "execution_count": 37,
   "id": "a2d68a59",
   "metadata": {},
   "outputs": [],
   "source": [
    "l = ['ball', 'corn', 'apple']"
   ]
  },
  {
   "cell_type": "code",
   "execution_count": 38,
   "id": "baf27bbe",
   "metadata": {},
   "outputs": [
    {
     "data": {
      "text/plain": [
       "'ball,corn,apple'"
      ]
     },
     "execution_count": 38,
     "metadata": {},
     "output_type": "execute_result"
    }
   ],
   "source": [
    "# to join elements of a string to form a string we use the .join method\n",
    "','.join(l)"
   ]
  },
  {
   "cell_type": "code",
   "execution_count": 40,
   "id": "a7e39450",
   "metadata": {},
   "outputs": [
    {
     "data": {
      "text/plain": [
       "'ball corn apple'"
      ]
     },
     "execution_count": 40,
     "metadata": {},
     "output_type": "execute_result"
    }
   ],
   "source": [
    "#the character you put in the hyphea is what python will use to join the elements\n",
    "' '.join(l)"
   ]
  },
  {
   "cell_type": "code",
   "execution_count": 44,
   "id": "ea68a05a",
   "metadata": {},
   "outputs": [],
   "source": [
    "s2 = 'Mr Elon Musk'\n",
    "s3 = 'brother man'"
   ]
  },
  {
   "cell_type": "code",
   "execution_count": 45,
   "id": "d1c8bb58",
   "metadata": {},
   "outputs": [
    {
     "data": {
      "text/plain": [
       "'BROTHER MAN'"
      ]
     },
     "execution_count": 45,
     "metadata": {},
     "output_type": "execute_result"
    }
   ],
   "source": [
    "s3.upper()"
   ]
  },
  {
   "cell_type": "code",
   "execution_count": 46,
   "id": "bef6e902",
   "metadata": {},
   "outputs": [
    {
     "data": {
      "text/plain": [
       "'MR ELON MUSK'"
      ]
     },
     "execution_count": 46,
     "metadata": {},
     "output_type": "execute_result"
    }
   ],
   "source": [
    "s2.upper()"
   ]
  },
  {
   "cell_type": "code",
   "execution_count": 48,
   "id": "0a4c678c",
   "metadata": {},
   "outputs": [
    {
     "data": {
      "text/plain": [
       "'mr elon musk'"
      ]
     },
     "execution_count": 48,
     "metadata": {},
     "output_type": "execute_result"
    }
   ],
   "source": [
    "s2.lower()"
   ]
  },
  {
   "cell_type": "code",
   "execution_count": 49,
   "id": "69876b49",
   "metadata": {},
   "outputs": [
    {
     "data": {
      "text/plain": [
       "'Brother man'"
      ]
     },
     "execution_count": 49,
     "metadata": {},
     "output_type": "execute_result"
    }
   ],
   "source": [
    "# to give your string a sentence case\n",
    "s3.capitalize()"
   ]
  },
  {
   "cell_type": "code",
   "execution_count": 50,
   "id": "d8cc44b7",
   "metadata": {},
   "outputs": [
    {
     "data": {
      "text/plain": [
       "'Brother Man'"
      ]
     },
     "execution_count": 50,
     "metadata": {},
     "output_type": "execute_result"
    }
   ],
   "source": [
    "# to capitalize the first letter of every word in our string\n",
    "s3.title()"
   ]
  },
  {
   "cell_type": "code",
   "execution_count": 51,
   "id": "94c2bca4",
   "metadata": {},
   "outputs": [
    {
     "data": {
      "text/plain": [
       "'     Hello'"
      ]
     },
     "execution_count": 51,
     "metadata": {},
     "output_type": "execute_result"
    }
   ],
   "source": [
    "#rjust() and ljust() for text justification\n",
    "'Hello'.rjust(10)"
   ]
  },
  {
   "cell_type": "code",
   "execution_count": 52,
   "id": "c4d4b8a3",
   "metadata": {},
   "outputs": [
    {
     "data": {
      "text/plain": [
       "'Hello     '"
      ]
     },
     "execution_count": 52,
     "metadata": {},
     "output_type": "execute_result"
    }
   ],
   "source": [
    "'Hello'.ljust(10)"
   ]
  },
  {
   "cell_type": "code",
   "execution_count": 53,
   "id": "292b91be",
   "metadata": {},
   "outputs": [
    {
     "data": {
      "text/plain": [
       "'  Hello   '"
      ]
     },
     "execution_count": 53,
     "metadata": {},
     "output_type": "execute_result"
    }
   ],
   "source": [
    "'Hello'.center(10)"
   ]
  },
  {
   "cell_type": "code",
   "execution_count": 54,
   "id": "436f3a91",
   "metadata": {},
   "outputs": [
    {
     "data": {
      "text/plain": [
       "'*****Hello*****'"
      ]
     },
     "execution_count": 54,
     "metadata": {},
     "output_type": "execute_result"
    }
   ],
   "source": [
    "'Hello'.center(15,'*')"
   ]
  },
  {
   "cell_type": "code",
   "execution_count": 59,
   "id": "7dedd3be",
   "metadata": {},
   "outputs": [
    {
     "name": "stdout",
     "output_type": "stream",
     "text": [
      "-------PICNIC ITEMS-------\n",
      "sandwiches----------     4\n",
      "apples--------------    12\n",
      "çups----------------     4\n",
      "cookies-------------   800\n",
      "--PICNIC ITEMS--\n",
      "sandwiches--   4\n",
      "apples------  12\n",
      "çups--------   4\n",
      "cookies----- 800\n"
     ]
    }
   ],
   "source": [
    "picnic_items = {'sandwiches':4, 'apples':12, 'çups':4, 'cookies':800}\n",
    "def print_picnic(items_dict, left_width, right_width):\n",
    "    print('PICNIC ITEMS'.center(left_width + right_width, '-'))\n",
    "    for key, value in items_dict.items():\n",
    "        print(f\"{key.ljust(left_width,'-')}{str(value).rjust(right_width)}\")\n",
    "        \n",
    "print_picnic(picnic_items, 20, 6)\n",
    "print_picnic(picnic_items, 12, 4)"
   ]
  },
  {
   "cell_type": "code",
   "execution_count": 60,
   "id": "048a0664",
   "metadata": {},
   "outputs": [
    {
     "data": {
      "text/plain": [
       "'quarterly earnings report'"
      ]
     },
     "execution_count": 60,
     "metadata": {},
     "output_type": "execute_result"
    }
   ],
   "source": [
    "#strip -- remove excess blank spaces\n",
    "# --- leading and trailing spaces\n",
    "s4 = '      quarterly earnings report      '\n",
    "s4.strip()"
   ]
  },
  {
   "cell_type": "code",
   "execution_count": 66,
   "id": "460791d1",
   "metadata": {},
   "outputs": [
    {
     "data": {
      "text/plain": [
       "'quarterly earnings repor'"
      ]
     },
     "execution_count": 66,
     "metadata": {},
     "output_type": "execute_result"
    }
   ],
   "source": [
    "s4.strip(' t')"
   ]
  },
  {
   "cell_type": "code",
   "execution_count": 67,
   "id": "8cbd9906",
   "metadata": {},
   "outputs": [
    {
     "data": {
      "text/plain": [
       "'quarterly earnings repo'"
      ]
     },
     "execution_count": 67,
     "metadata": {},
     "output_type": "execute_result"
    }
   ],
   "source": [
    "s4.strip(' rt')"
   ]
  },
  {
   "cell_type": "code",
   "execution_count": 68,
   "id": "3d552e02",
   "metadata": {},
   "outputs": [
    {
     "data": {
      "text/plain": [
       "'uarterly earnings repor'"
      ]
     },
     "execution_count": 68,
     "metadata": {},
     "output_type": "execute_result"
    }
   ],
   "source": [
    "s4.strip(' qt')"
   ]
  },
  {
   "cell_type": "code",
   "execution_count": 76,
   "id": "8fe9f9d2",
   "metadata": {},
   "outputs": [],
   "source": [
    "s5 = s4.lstrip()"
   ]
  },
  {
   "cell_type": "code",
   "execution_count": 77,
   "id": "d788a6fe",
   "metadata": {},
   "outputs": [
    {
     "data": {
      "text/plain": [
       "'      quarterly earnings report'"
      ]
     },
     "execution_count": 77,
     "metadata": {},
     "output_type": "execute_result"
    }
   ],
   "source": [
    "s4.rstrip()"
   ]
  },
  {
   "cell_type": "code",
   "execution_count": 78,
   "id": "f9727681",
   "metadata": {},
   "outputs": [
    {
     "data": {
      "text/plain": [
       "'nings report      '"
      ]
     },
     "execution_count": 78,
     "metadata": {},
     "output_type": "execute_result"
    }
   ],
   "source": [
    "s4.lstrip(' quarterly')"
   ]
  },
  {
   "cell_type": "code",
   "execution_count": 88,
   "id": "e0dd7dc8",
   "metadata": {},
   "outputs": [
    {
     "data": {
      "text/plain": [
       "' earnings report      '"
      ]
     },
     "execution_count": 88,
     "metadata": {},
     "output_type": "execute_result"
    }
   ],
   "source": [
    "s6 = s5.strip('quarterly')\n",
    "s6"
   ]
  },
  {
   "cell_type": "code",
   "execution_count": 85,
   "id": "39a7b51e",
   "metadata": {},
   "outputs": [
    {
     "data": {
      "text/plain": [
       "'earnings report'"
      ]
     },
     "execution_count": 85,
     "metadata": {},
     "output_type": "execute_result"
    }
   ],
   "source": [
    "s7 = s6.strip()\n",
    "s7"
   ]
  },
  {
   "cell_type": "code",
   "execution_count": 86,
   "id": "f2b7fb21",
   "metadata": {},
   "outputs": [
    {
     "data": {
      "text/plain": [
       "'EARNINGS REPORT'"
      ]
     },
     "execution_count": 86,
     "metadata": {},
     "output_type": "execute_result"
    }
   ],
   "source": [
    "s7.upper()"
   ]
  },
  {
   "cell_type": "markdown",
   "id": "6a0a57db",
   "metadata": {},
   "source": [
    "### String Accessors"
   ]
  },
  {
   "cell_type": "markdown",
   "id": "0139b97a",
   "metadata": {},
   "source": [
    "#### Methods of strings in Pandas series form"
   ]
  },
  {
   "cell_type": "code",
   "execution_count": 87,
   "id": "7acbf085",
   "metadata": {},
   "outputs": [
    {
     "data": {
      "text/plain": [
       "0    employee satisfaction rating\n",
       "1               employee turnover\n",
       "dtype: object"
      ]
     },
     "execution_count": 87,
     "metadata": {},
     "output_type": "execute_result"
    }
   ],
   "source": [
    "import pandas as pd\n",
    "operational_kpi = pd.Series(['employee satisfaction rating','employee turnover'])\n",
    "operational_kpi"
   ]
  },
  {
   "cell_type": "code",
   "execution_count": 89,
   "id": "940881ef",
   "metadata": {},
   "outputs": [
    {
     "data": {
      "text/plain": [
       "' satisfaction rating'"
      ]
     },
     "execution_count": 89,
     "metadata": {},
     "output_type": "execute_result"
    }
   ],
   "source": [
    "operational_kpi[0].lstrip('employee')"
   ]
  },
  {
   "cell_type": "code",
   "execution_count": 90,
   "id": "f3744c8c",
   "metadata": {},
   "outputs": [
    {
     "data": {
      "text/plain": [
       "' turnover'"
      ]
     },
     "execution_count": 90,
     "metadata": {},
     "output_type": "execute_result"
    }
   ],
   "source": [
    "operational_kpi[1].lstrip('employee')"
   ]
  },
  {
   "cell_type": "code",
   "execution_count": 94,
   "id": "8b55a948",
   "metadata": {},
   "outputs": [
    {
     "name": "stdout",
     "output_type": "stream",
     "text": [
      "<pandas.core.strings.accessor.StringMethods object at 0x0000022C01A3D850>\n"
     ]
    }
   ],
   "source": [
    "kpi_series = operational_kpi.str\n",
    "print(kpi_series)"
   ]
  },
  {
   "cell_type": "code",
   "execution_count": 96,
   "id": "d1beedfc",
   "metadata": {},
   "outputs": [
    {
     "data": {
      "text/plain": [
       "0     satisfaction rating\n",
       "1                turnover\n",
       "dtype: object"
      ]
     },
     "execution_count": 96,
     "metadata": {},
     "output_type": "execute_result"
    }
   ],
   "source": [
    "operational_kpi.str.lstrip('employee')"
   ]
  },
  {
   "cell_type": "code",
   "execution_count": 97,
   "id": "5dbfe742",
   "metadata": {},
   "outputs": [
    {
     "data": {
      "text/plain": [
       "0     satisfaction rating\n",
       "1                turnover\n",
       "dtype: object"
      ]
     },
     "execution_count": 97,
     "metadata": {},
     "output_type": "execute_result"
    }
   ],
   "source": [
    "kpi_series.lstrip('employee')"
   ]
  },
  {
   "cell_type": "code",
   "execution_count": 98,
   "id": "242596d1",
   "metadata": {},
   "outputs": [
    {
     "data": {
      "text/plain": [
       "0    True\n",
       "1    True\n",
       "dtype: bool"
      ]
     },
     "execution_count": 98,
     "metadata": {},
     "output_type": "execute_result"
    }
   ],
   "source": [
    "operational_kpi.str.contains('employee')"
   ]
  },
  {
   "cell_type": "code",
   "execution_count": 100,
   "id": "6d04542f",
   "metadata": {},
   "outputs": [
    {
     "data": {
      "text/plain": [
       "0     True\n",
       "1    False\n",
       "dtype: bool"
      ]
     },
     "execution_count": 100,
     "metadata": {},
     "output_type": "execute_result"
    }
   ],
   "source": [
    "operational_kpi.str.contains('satisfaction')"
   ]
  },
  {
   "cell_type": "code",
   "execution_count": 103,
   "id": "d8d8a489",
   "metadata": {},
   "outputs": [
    {
     "data": {
      "text/plain": [
       "'HELLO WORLD'"
      ]
     },
     "execution_count": 103,
     "metadata": {},
     "output_type": "execute_result"
    }
   ],
   "source": [
    "'hello world'.upper()"
   ]
  },
  {
   "cell_type": "code",
   "execution_count": 104,
   "id": "413f373f",
   "metadata": {},
   "outputs": [
    {
     "data": {
      "text/plain": [
       "True"
      ]
     },
     "execution_count": 104,
     "metadata": {},
     "output_type": "execute_result"
    }
   ],
   "source": [
    "'hello world'.upper().isupper()"
   ]
  },
  {
   "cell_type": "code",
   "execution_count": null,
   "id": "daf9d10d",
   "metadata": {},
   "outputs": [],
   "source": []
  }
 ],
 "metadata": {
  "kernelspec": {
   "display_name": "Python 3 (ipykernel)",
   "language": "python",
   "name": "python3"
  },
  "language_info": {
   "codemirror_mode": {
    "name": "ipython",
    "version": 3
   },
   "file_extension": ".py",
   "mimetype": "text/x-python",
   "name": "python",
   "nbconvert_exporter": "python",
   "pygments_lexer": "ipython3",
   "version": "3.9.12"
  }
 },
 "nbformat": 4,
 "nbformat_minor": 5
}
