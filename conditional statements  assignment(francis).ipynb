{
 "cells": [
  {
   "cell_type": "code",
   "execution_count": 14,
   "id": "5e3527eb",
   "metadata": {
    "collapsed": true
   },
   "outputs": [
    {
     "name": "stdout",
     "output_type": "stream",
     "text": [
      "\n"
     ]
    },
    {
     "ename": "ValueError",
     "evalue": "could not convert string to float: ''",
     "output_type": "error",
     "traceback": [
      "\u001b[1;31m---------------------------------------------------------------------------\u001b[0m",
      "\u001b[1;31mValueError\u001b[0m                                Traceback (most recent call last)",
      "Input \u001b[1;32mIn [14]\u001b[0m, in \u001b[0;36m<cell line: 1>\u001b[1;34m()\u001b[0m\n\u001b[1;32m----> 1\u001b[0m cost_price \u001b[38;5;241m=\u001b[39m \u001b[38;5;28;43mfloat\u001b[39;49m\u001b[43m(\u001b[49m\u001b[38;5;28;43minput\u001b[39;49m\u001b[43m(\u001b[49m\u001b[43m)\u001b[49m\u001b[43m)\u001b[49m\n\u001b[0;32m      2\u001b[0m rt \u001b[38;5;241m=\u001b[39m [\u001b[38;5;124m'\u001b[39m\u001b[38;5;124m15\u001b[39m\u001b[38;5;124m%\u001b[39m\u001b[38;5;124m'\u001b[39m, \u001b[38;5;124m'\u001b[39m\u001b[38;5;124m10\u001b[39m\u001b[38;5;124m%\u001b[39m\u001b[38;5;124m'\u001b[39m, \u001b[38;5;124m'\u001b[39m\u001b[38;5;124m5\u001b[39m\u001b[38;5;124m%\u001b[39m\u001b[38;5;124m'\u001b[39m]\n\u001b[0;32m      3\u001b[0m \u001b[38;5;28;01mif\u001b[39;00m cost_price \u001b[38;5;241m>\u001b[39m \u001b[38;5;241m100000\u001b[39m:\n",
      "\u001b[1;31mValueError\u001b[0m: could not convert string to float: ''"
     ]
    }
   ],
   "source": [
    "#Question 2\n",
    "cost_price = float(input())\n",
    "rt = ['15%', '10%', '5%']\n",
    "if cost_price > 100000:\n",
    "    print('road tax is', rt[0] )\n",
    "elif cost_price > 50000:\n",
    "    print('road tax is', rt[1] )\n",
    "else:\n",
    "    print('road tax is', rt[2] )"
   ]
  },
  {
   "cell_type": "code",
   "execution_count": 15,
   "id": "aae52606",
   "metadata": {
    "collapsed": true
   },
   "outputs": [
    {
     "name": "stdout",
     "output_type": "stream",
     "text": [
      "\n"
     ]
    },
    {
     "ename": "ValueError",
     "evalue": "could not convert string to float: ''",
     "output_type": "error",
     "traceback": [
      "\u001b[1;31m---------------------------------------------------------------------------\u001b[0m",
      "\u001b[1;31mValueError\u001b[0m                                Traceback (most recent call last)",
      "Input \u001b[1;32mIn [15]\u001b[0m, in \u001b[0;36m<cell line: 1>\u001b[1;34m()\u001b[0m\n\u001b[1;32m----> 1\u001b[0m grade \u001b[38;5;241m=\u001b[39m \u001b[38;5;28;43mfloat\u001b[39;49m\u001b[43m(\u001b[49m\u001b[38;5;28;43minput\u001b[39;49m\u001b[43m(\u001b[49m\u001b[43m)\u001b[49m\u001b[43m)\u001b[49m\n\u001b[0;32m      2\u001b[0m \u001b[38;5;28;01mif\u001b[39;00m grade \u001b[38;5;241m<\u001b[39m \u001b[38;5;241m60\u001b[39m:\n\u001b[0;32m      3\u001b[0m     \u001b[38;5;28mprint\u001b[39m(\u001b[38;5;124m'\u001b[39m\u001b[38;5;124mgrade is \u001b[39m\u001b[38;5;124m'\u001b[39m, \u001b[38;5;124m'\u001b[39m\u001b[38;5;124mD\u001b[39m\u001b[38;5;124m'\u001b[39m)\n",
      "\u001b[1;31mValueError\u001b[0m: could not convert string to float: ''"
     ]
    }
   ],
   "source": [
    "#Question 1\n",
    "grade = float(input())\n",
    "if grade < 60:\n",
    "    print('grade is ', 'D')\n",
    "elif grade <= 80:\n",
    "    print('grade is ', 'C')\n",
    "elif grade <=90:\n",
    "    print('grade is ', 'B')\n",
    "else:\n",
    "    print('grade is ', 'A')"
   ]
  },
  {
   "cell_type": "code",
   "execution_count": 16,
   "id": "e8bbdb3a",
   "metadata": {
    "collapsed": true
   },
   "outputs": [
    {
     "name": "stdout",
     "output_type": "stream",
     "text": [
      "\n"
     ]
    },
    {
     "ename": "ValueError",
     "evalue": "invalid literal for int() with base 10: ''",
     "output_type": "error",
     "traceback": [
      "\u001b[1;31m---------------------------------------------------------------------------\u001b[0m",
      "\u001b[1;31mValueError\u001b[0m                                Traceback (most recent call last)",
      "Input \u001b[1;32mIn [16]\u001b[0m, in \u001b[0;36m<cell line: 2>\u001b[1;34m()\u001b[0m\n\u001b[0;32m      1\u001b[0m \u001b[38;5;66;03m#leap years are years diivisible by 4\u001b[39;00m\n\u001b[1;32m----> 2\u001b[0m year \u001b[38;5;241m=\u001b[39m \u001b[38;5;28;43mint\u001b[39;49m\u001b[43m(\u001b[49m\u001b[38;5;28;43minput\u001b[39;49m\u001b[43m(\u001b[49m\u001b[43m)\u001b[49m\u001b[43m)\u001b[49m\n\u001b[0;32m      3\u001b[0m \u001b[38;5;28;01mif\u001b[39;00m year\u001b[38;5;241m%\u001b[39m\u001b[38;5;241m100\u001b[39m \u001b[38;5;241m==\u001b[39m \u001b[38;5;241m0\u001b[39m:\n\u001b[0;32m      4\u001b[0m     \u001b[38;5;28;01mif\u001b[39;00m year\u001b[38;5;241m%\u001b[39m\u001b[38;5;241m400\u001b[39m \u001b[38;5;241m==\u001b[39m \u001b[38;5;241m0\u001b[39m:\n",
      "\u001b[1;31mValueError\u001b[0m: invalid literal for int() with base 10: ''"
     ]
    }
   ],
   "source": [
    "#Question 3\n",
    "#leap years are years diivisible by 4\n",
    "year = int(input())\n",
    "if year%100 == 0:\n",
    "    if year%400 == 0:\n",
    "        print('This is a Leap Year')\n",
    "    else:\n",
    "        print('This is not a Leap Year')\n",
    "elif year%4 == 0:\n",
    "    print('This is a Leap Year')\n",
    "else:\n",
    "    print('This is not a Leap Year')"
   ]
  },
  {
   "cell_type": "code",
   "execution_count": 24,
   "id": "ce348df0",
   "metadata": {
    "collapsed": true
   },
   "outputs": [
    {
     "name": "stdout",
     "output_type": "stream",
     "text": [
      "8\n",
      "this is not a day\n"
     ]
    }
   ],
   "source": [
    "#Question 4\n",
    "day = int(input())\n",
    "if day > 7 or day < 1:\n",
    "    print('this is not a day')\n",
    "elif day == 1:\n",
    "    print('Sunday')\n",
    "elif day == 2:\n",
    "    print('Monday')\n",
    "elif day == 3:\n",
    "    print('Tuesday')\n",
    "elif day == 4:\n",
    "    print('Wednesday')\n",
    "elif day == 5:\n",
    "    print('Thursday')\n",
    "elif day == 6:\n",
    "    print('Friday')\n",
    "elif day == 7:\n",
    "    print('Saturday')"
   ]
  },
  {
   "cell_type": "code",
   "execution_count": null,
   "id": "19ef2145",
   "metadata": {},
   "outputs": [],
   "source": [
    "#Question 5"
   ]
  },
  {
   "cell_type": "code",
   "execution_count": null,
   "id": "ff535095",
   "metadata": {},
   "outputs": [],
   "source": [
    "#Question 8\n",
    "A > B and C > D\n"
   ]
  },
  {
   "cell_type": "code",
   "execution_count": null,
   "id": "054c74ad",
   "metadata": {},
   "outputs": [],
   "source": []
  },
  {
   "cell_type": "code",
   "execution_count": null,
   "id": "4d88d536",
   "metadata": {},
   "outputs": [],
   "source": []
  }
 ],
 "metadata": {
  "kernelspec": {
   "display_name": "Python 3 (ipykernel)",
   "language": "python",
   "name": "python3"
  },
  "language_info": {
   "codemirror_mode": {
    "name": "ipython",
    "version": 3
   },
   "file_extension": ".py",
   "mimetype": "text/x-python",
   "name": "python",
   "nbconvert_exporter": "python",
   "pygments_lexer": "ipython3",
   "version": "3.9.12"
  }
 },
 "nbformat": 4,
 "nbformat_minor": 5
}
