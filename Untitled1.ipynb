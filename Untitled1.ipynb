{
 "cells": [
  {
   "cell_type": "code",
   "execution_count": 14,
   "id": "b92c294f",
   "metadata": {},
   "outputs": [],
   "source": [
    "francis = {'name':'Utulu Francis Chukwuka','age':'26','gender':'Male','Occupation':'Civil engineering','hobbies':['football','reading','gaming','eating','sleeping'],'relationship':{'brother':['Utulu Michael','Utulu Anthony'], 'sister':'Utulu Irene', 'father': 'Mr Utulu', 'Mother':'Mrs Utulu'}}"
   ]
  },
  {
   "cell_type": "code",
   "execution_count": 16,
   "id": "b98b26c3",
   "metadata": {},
   "outputs": [
    {
     "data": {
      "text/plain": [
       "['football', 'reading', 'gaming', 'eating', 'sleeping']"
      ]
     },
     "execution_count": 16,
     "metadata": {},
     "output_type": "execute_result"
    }
   ],
   "source": [
    "francis['hobbies']"
   ]
  },
  {
   "cell_type": "code",
   "execution_count": 17,
   "id": "7757c95c",
   "metadata": {},
   "outputs": [
    {
     "data": {
      "text/plain": [
       "{'brother': ['Utulu Michael', 'Utulu Anthony'],\n",
       " 'sister': 'Utulu Irene',\n",
       " 'father': 'Mr Utulu',\n",
       " 'Mother': 'Mrs Utulu'}"
      ]
     },
     "execution_count": 17,
     "metadata": {},
     "output_type": "execute_result"
    }
   ],
   "source": [
    "francis['relationship']"
   ]
  },
  {
   "cell_type": "code",
   "execution_count": 1,
   "id": "087b7ef4",
   "metadata": {},
   "outputs": [],
   "source": [
    "boy = 'uzumaki naruto'"
   ]
  },
  {
   "cell_type": "code",
   "execution_count": 2,
   "id": "de0f90a6",
   "metadata": {},
   "outputs": [
    {
     "data": {
      "text/plain": [
       "<enumerate at 0x1a5051778c0>"
      ]
     },
     "execution_count": 2,
     "metadata": {},
     "output_type": "execute_result"
    }
   ],
   "source": [
    "enumerate(boy)"
   ]
  },
  {
   "cell_type": "code",
   "execution_count": 20,
   "id": "8692b2ad",
   "metadata": {},
   "outputs": [
    {
     "data": {
      "text/plain": [
       "[(0, 'u'),\n",
       " (1, 'z'),\n",
       " (2, 'u'),\n",
       " (3, 'm'),\n",
       " (4, 'a'),\n",
       " (5, 'k'),\n",
       " (6, 'i'),\n",
       " (7, ' '),\n",
       " (8, 'n'),\n",
       " (9, 'a'),\n",
       " (10, 'r'),\n",
       " (11, 'u'),\n",
       " (12, 't'),\n",
       " (13, 'o')]"
      ]
     },
     "execution_count": 20,
     "metadata": {},
     "output_type": "execute_result"
    }
   ],
   "source": [
    "list(enumerate(boy))"
   ]
  },
  {
   "cell_type": "code",
   "execution_count": 22,
   "id": "b42d52b5",
   "metadata": {},
   "outputs": [
    {
     "data": {
      "text/plain": [
       "3"
      ]
     },
     "execution_count": 22,
     "metadata": {},
     "output_type": "execute_result"
    }
   ],
   "source": [
    "7//2"
   ]
  },
  {
   "cell_type": "code",
   "execution_count": 3,
   "id": "cbec0ecc",
   "metadata": {},
   "outputs": [
    {
     "data": {
      "text/plain": [
       "3.5"
      ]
     },
     "execution_count": 3,
     "metadata": {},
     "output_type": "execute_result"
    }
   ],
   "source": [
    "7/2"
   ]
  },
  {
   "cell_type": "code",
   "execution_count": 23,
   "id": "ff1da93c",
   "metadata": {},
   "outputs": [
    {
     "data": {
      "text/plain": [
       "True"
      ]
     },
     "execution_count": 23,
     "metadata": {},
     "output_type": "execute_result"
    }
   ],
   "source": [
    "2 ==2"
   ]
  },
  {
   "cell_type": "code",
   "execution_count": 24,
   "id": "1c78ba17",
   "metadata": {},
   "outputs": [],
   "source": [
    "boy = 1234"
   ]
  },
  {
   "cell_type": "code",
   "execution_count": 25,
   "id": "0bf93045",
   "metadata": {},
   "outputs": [],
   "source": [
    "girl = 1234"
   ]
  },
  {
   "cell_type": "code",
   "execution_count": 26,
   "id": "8a05074d",
   "metadata": {},
   "outputs": [
    {
     "data": {
      "text/plain": [
       "True"
      ]
     },
     "execution_count": 26,
     "metadata": {},
     "output_type": "execute_result"
    }
   ],
   "source": [
    "boy == girl"
   ]
  },
  {
   "cell_type": "code",
   "execution_count": null,
   "id": "3cf73d85",
   "metadata": {},
   "outputs": [],
   "source": [
    "+="
   ]
  }
 ],
 "metadata": {
  "kernelspec": {
   "display_name": "Python 3 (ipykernel)",
   "language": "python",
   "name": "python3"
  },
  "language_info": {
   "codemirror_mode": {
    "name": "ipython",
    "version": 3
   },
   "file_extension": ".py",
   "mimetype": "text/x-python",
   "name": "python",
   "nbconvert_exporter": "python",
   "pygments_lexer": "ipython3",
   "version": "3.9.12"
  }
 },
 "nbformat": 4,
 "nbformat_minor": 5
}
