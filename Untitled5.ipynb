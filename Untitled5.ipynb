{
 "cells": [
  {
   "cell_type": "code",
   "execution_count": 51,
   "id": "5426f9ac",
   "metadata": {},
   "outputs": [],
   "source": [
    "class Clothing:\n",
    "    def __init__(self, colour, size, style, price, gender):\n",
    "        \"\"\"This class is a parent class that represents all clohings in a store. \n",
    "        children classes that defines a particular clothing article in a store \n",
    "        args:\n",
    "            colour(string) : the colour of the article\n",
    "            size(string) : s for small, m for medium, l for large, xl for extra large\n",
    "            style(string) : the different styles \n",
    "            price(float) : the prices of the articles\n",
    "            gender(string) : whether m for male or f for female\"\"\"\n",
    "        self.colour = colour\n",
    "        self.size = size\n",
    "        self.style = style\n",
    "        self.price = price\n",
    "        self.gender = gender\n",
    "        \n",
    "        \n",
    "    \"\"\"The following methods are used to change the values or inputs of the above attributes\"\"\"\n",
    "    \n",
    "    def change_size (self, new_size):\n",
    "        if new_size == 's' or new_size == 'm' or new_size == 'l' or new_size == 'xl' or new_size == 'xxl':\n",
    "            self.size = new_size\n",
    "            return 'The new price of the clothing article is {}'.format(self.size)\n",
    "        else:\n",
    "            print('wrong value for size, input one of the options [s, m, l, xl,xxl]')\n",
    "            \n",
    "    def change_colour (self, new_colour):\n",
    "        self.colour = new_colour\n",
    "        return 'The new colour of the clothing article is {}'.format(self.colour)\n",
    "    \n",
    "    def change_gender (self, new_gender):\n",
    "        self.gender = new_gender\n",
    "        return 'The new gender is {}'.format(self.gender)\n",
    "        \n",
    "    def change_style (self, new_style):\n",
    "        self.style =new_style\n",
    "        return 'The new price of the clothing article is {}'.format(self.style)\n",
    "    \n",
    "    def change_price (self, new_price):\n",
    "        self.price = newprice\n",
    "        return self.price\n",
    "    \n",
    "    def discounted_price(self, discount):\n",
    "        #this calculates  the discounted price, with discount given in percentage\n",
    "        self.price *= (1 - discount/100)\n",
    "        return self.price\n",
    "    \n",
    "    def attributes (self):\n",
    "        print ('The Price is ${} \\n The colour is {} \\n The size is {} \\n The style is {}'.format(self.price, self.colour, self.size, self.style))\n",
    "    \"\"\"This gives an output of all the attributes and their respective values for each instance of an object\"\"\"\n",
    "    \n",
    "    \n",
    "    class Trouser(Clothing):\n",
    "    def __init__(self, colour, size, style, price, gender, waist_size, trouser_length):\n",
    "        Clothing.__init__(self, colour, size, style, price, gender)\n",
    "        self.waist_size = waist_size\n",
    "        self.trouser_length = trouser_length"
   ]
  },
  {
   "cell_type": "code",
   "execution_count": 48,
   "id": "6ab80375",
   "metadata": {},
   "outputs": [],
   "source": []
  },
  {
   "cell_type": "code",
   "execution_count": null,
   "id": "9a0d3a43",
   "metadata": {},
   "outputs": [],
   "source": []
  }
 ],
 "metadata": {
  "kernelspec": {
   "display_name": "Python 3 (ipykernel)",
   "language": "python",
   "name": "python3"
  },
  "language_info": {
   "codemirror_mode": {
    "name": "ipython",
    "version": 3
   },
   "file_extension": ".py",
   "mimetype": "text/x-python",
   "name": "python",
   "nbconvert_exporter": "python",
   "pygments_lexer": "ipython3",
   "version": "3.9.12"
  }
 },
 "nbformat": 4,
 "nbformat_minor": 5
}
